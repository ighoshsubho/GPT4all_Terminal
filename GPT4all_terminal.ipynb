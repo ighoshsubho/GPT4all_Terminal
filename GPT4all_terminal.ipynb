{
  "nbformat": 4,
  "nbformat_minor": 0,
  "metadata": {
    "colab": {
      "provenance": [],
      "authorship_tag": "ABX9TyMzl2yF62ymkRMTcjRBusXP",
      "include_colab_link": true
    },
    "kernelspec": {
      "name": "python3",
      "display_name": "Python 3"
    },
    "language_info": {
      "name": "python"
    },
    "accelerator": "GPU",
    "gpuClass": "standard"
  },
  "cells": [
    {
      "cell_type": "markdown",
      "metadata": {
        "id": "view-in-github",
        "colab_type": "text"
      },
      "source": [
        "<a href=\"https://colab.research.google.com/github/ighoshsubho/GPT4all_Terminal/blob/main/GPT4all_terminal.ipynb\" target=\"_parent\"><img src=\"https://colab.research.google.com/assets/colab-badge.svg\" alt=\"Open In Colab\"/></a>"
      ]
    },
    {
      "cell_type": "code",
      "execution_count": null,
      "metadata": {
        "id": "xdsTN7Xz-_BS"
      },
      "outputs": [],
      "source": [
        "!apt -y install -qq aria2"
      ]
    },
    {
      "cell_type": "code",
      "source": [
        "!git clone --recurse-submodules -j8 https://github.com/camenduru/gpt4all"
      ],
      "metadata": {
        "id": "iaoVRqjL_IlJ"
      },
      "execution_count": null,
      "outputs": []
    },
    {
      "cell_type": "code",
      "source": [
        "!aria2c --console-log-level=error -c -x 16 -s 16 -k 1M https://huggingface.co/aryan1107/gpt4all-llora/resolve/main/gpt4all-lora-quantized.bin -d /content/gpt4all/chat -o gpt4all-lora-quantized.bin"
      ],
      "metadata": {
        "id": "BS_XiAQK_M0x"
      },
      "execution_count": null,
      "outputs": []
    },
    {
      "cell_type": "code",
      "source": [
        "!pip install colab-xterm"
      ],
      "metadata": {
        "id": "BpP-Uerx_PgJ"
      },
      "execution_count": null,
      "outputs": []
    },
    {
      "cell_type": "code",
      "source": [
        "%load_ext colabxterm"
      ],
      "metadata": {
        "id": "xhu2Z1xr_UCq"
      },
      "execution_count": null,
      "outputs": []
    },
    {
      "cell_type": "code",
      "source": [
        "%xterm\n",
        "# cd /content/gpt4all/chat;./gpt4all-lora-quantized-linux-x86"
      ],
      "metadata": {
        "id": "c32l5o41_rn8"
      },
      "execution_count": null,
      "outputs": []
    }
  ]
}